{
 "cells": [
  {
   "metadata": {
    "ExecuteTime": {
     "end_time": "2025-10-17T17:20:37.315056Z",
     "start_time": "2025-10-17T17:20:37.311406Z"
    }
   },
   "cell_type": "code",
   "source": [
    "import pandas as pd\n",
    "import numpy as np"
   ],
   "id": "29e6f4ae9073969a",
   "outputs": [],
   "execution_count": 1
  },
  {
   "metadata": {
    "ExecuteTime": {
     "end_time": "2025-10-17T17:20:37.925250Z",
     "start_time": "2025-10-17T17:20:37.348900Z"
    }
   },
   "cell_type": "code",
   "source": [
    "df = pd.read_csv('https://raw.githubusercontent.com/alexeygrigorev/datasets/master/course_lead_scoring.csv')\n",
    "df"
   ],
   "id": "922c5601b0a3a698",
   "outputs": [
    {
     "data": {
      "text/plain": [
       "         lead_source       industry  number_of_courses_viewed  annual_income  \\\n",
       "0           paid_ads            NaN                         1        79450.0   \n",
       "1       social_media         retail                         1        46992.0   \n",
       "2             events     healthcare                         5        78796.0   \n",
       "3           paid_ads         retail                         2        83843.0   \n",
       "4           referral      education                         3        85012.0   \n",
       "...              ...            ...                       ...            ...   \n",
       "1457        referral  manufacturing                         1            NaN   \n",
       "1458        referral     technology                         3        65259.0   \n",
       "1459        paid_ads     technology                         1        45688.0   \n",
       "1460        referral            NaN                         5        71016.0   \n",
       "1461  organic_search        finance                         3        92855.0   \n",
       "\n",
       "     employment_status       location  interaction_count  lead_score  \\\n",
       "0           unemployed  south_america                  4        0.94   \n",
       "1             employed  south_america                  1        0.80   \n",
       "2           unemployed      australia                  3        0.69   \n",
       "3                  NaN      australia                  1        0.87   \n",
       "4        self_employed         europe                  3        0.62   \n",
       "...                ...            ...                ...         ...   \n",
       "1457     self_employed  north_america                  4        0.53   \n",
       "1458           student         europe                  2        0.24   \n",
       "1459           student  north_america                  3        0.02   \n",
       "1460     self_employed  north_america                  0        0.25   \n",
       "1461           student  north_america                  3        0.41   \n",
       "\n",
       "      converted  \n",
       "0             1  \n",
       "1             0  \n",
       "2             1  \n",
       "3             0  \n",
       "4             1  \n",
       "...         ...  \n",
       "1457          1  \n",
       "1458          1  \n",
       "1459          1  \n",
       "1460          1  \n",
       "1461          1  \n",
       "\n",
       "[1462 rows x 9 columns]"
      ],
      "text/html": [
       "<div>\n",
       "<style scoped>\n",
       "    .dataframe tbody tr th:only-of-type {\n",
       "        vertical-align: middle;\n",
       "    }\n",
       "\n",
       "    .dataframe tbody tr th {\n",
       "        vertical-align: top;\n",
       "    }\n",
       "\n",
       "    .dataframe thead th {\n",
       "        text-align: right;\n",
       "    }\n",
       "</style>\n",
       "<table border=\"1\" class=\"dataframe\">\n",
       "  <thead>\n",
       "    <tr style=\"text-align: right;\">\n",
       "      <th></th>\n",
       "      <th>lead_source</th>\n",
       "      <th>industry</th>\n",
       "      <th>number_of_courses_viewed</th>\n",
       "      <th>annual_income</th>\n",
       "      <th>employment_status</th>\n",
       "      <th>location</th>\n",
       "      <th>interaction_count</th>\n",
       "      <th>lead_score</th>\n",
       "      <th>converted</th>\n",
       "    </tr>\n",
       "  </thead>\n",
       "  <tbody>\n",
       "    <tr>\n",
       "      <th>0</th>\n",
       "      <td>paid_ads</td>\n",
       "      <td>NaN</td>\n",
       "      <td>1</td>\n",
       "      <td>79450.0</td>\n",
       "      <td>unemployed</td>\n",
       "      <td>south_america</td>\n",
       "      <td>4</td>\n",
       "      <td>0.94</td>\n",
       "      <td>1</td>\n",
       "    </tr>\n",
       "    <tr>\n",
       "      <th>1</th>\n",
       "      <td>social_media</td>\n",
       "      <td>retail</td>\n",
       "      <td>1</td>\n",
       "      <td>46992.0</td>\n",
       "      <td>employed</td>\n",
       "      <td>south_america</td>\n",
       "      <td>1</td>\n",
       "      <td>0.80</td>\n",
       "      <td>0</td>\n",
       "    </tr>\n",
       "    <tr>\n",
       "      <th>2</th>\n",
       "      <td>events</td>\n",
       "      <td>healthcare</td>\n",
       "      <td>5</td>\n",
       "      <td>78796.0</td>\n",
       "      <td>unemployed</td>\n",
       "      <td>australia</td>\n",
       "      <td>3</td>\n",
       "      <td>0.69</td>\n",
       "      <td>1</td>\n",
       "    </tr>\n",
       "    <tr>\n",
       "      <th>3</th>\n",
       "      <td>paid_ads</td>\n",
       "      <td>retail</td>\n",
       "      <td>2</td>\n",
       "      <td>83843.0</td>\n",
       "      <td>NaN</td>\n",
       "      <td>australia</td>\n",
       "      <td>1</td>\n",
       "      <td>0.87</td>\n",
       "      <td>0</td>\n",
       "    </tr>\n",
       "    <tr>\n",
       "      <th>4</th>\n",
       "      <td>referral</td>\n",
       "      <td>education</td>\n",
       "      <td>3</td>\n",
       "      <td>85012.0</td>\n",
       "      <td>self_employed</td>\n",
       "      <td>europe</td>\n",
       "      <td>3</td>\n",
       "      <td>0.62</td>\n",
       "      <td>1</td>\n",
       "    </tr>\n",
       "    <tr>\n",
       "      <th>...</th>\n",
       "      <td>...</td>\n",
       "      <td>...</td>\n",
       "      <td>...</td>\n",
       "      <td>...</td>\n",
       "      <td>...</td>\n",
       "      <td>...</td>\n",
       "      <td>...</td>\n",
       "      <td>...</td>\n",
       "      <td>...</td>\n",
       "    </tr>\n",
       "    <tr>\n",
       "      <th>1457</th>\n",
       "      <td>referral</td>\n",
       "      <td>manufacturing</td>\n",
       "      <td>1</td>\n",
       "      <td>NaN</td>\n",
       "      <td>self_employed</td>\n",
       "      <td>north_america</td>\n",
       "      <td>4</td>\n",
       "      <td>0.53</td>\n",
       "      <td>1</td>\n",
       "    </tr>\n",
       "    <tr>\n",
       "      <th>1458</th>\n",
       "      <td>referral</td>\n",
       "      <td>technology</td>\n",
       "      <td>3</td>\n",
       "      <td>65259.0</td>\n",
       "      <td>student</td>\n",
       "      <td>europe</td>\n",
       "      <td>2</td>\n",
       "      <td>0.24</td>\n",
       "      <td>1</td>\n",
       "    </tr>\n",
       "    <tr>\n",
       "      <th>1459</th>\n",
       "      <td>paid_ads</td>\n",
       "      <td>technology</td>\n",
       "      <td>1</td>\n",
       "      <td>45688.0</td>\n",
       "      <td>student</td>\n",
       "      <td>north_america</td>\n",
       "      <td>3</td>\n",
       "      <td>0.02</td>\n",
       "      <td>1</td>\n",
       "    </tr>\n",
       "    <tr>\n",
       "      <th>1460</th>\n",
       "      <td>referral</td>\n",
       "      <td>NaN</td>\n",
       "      <td>5</td>\n",
       "      <td>71016.0</td>\n",
       "      <td>self_employed</td>\n",
       "      <td>north_america</td>\n",
       "      <td>0</td>\n",
       "      <td>0.25</td>\n",
       "      <td>1</td>\n",
       "    </tr>\n",
       "    <tr>\n",
       "      <th>1461</th>\n",
       "      <td>organic_search</td>\n",
       "      <td>finance</td>\n",
       "      <td>3</td>\n",
       "      <td>92855.0</td>\n",
       "      <td>student</td>\n",
       "      <td>north_america</td>\n",
       "      <td>3</td>\n",
       "      <td>0.41</td>\n",
       "      <td>1</td>\n",
       "    </tr>\n",
       "  </tbody>\n",
       "</table>\n",
       "<p>1462 rows × 9 columns</p>\n",
       "</div>"
      ]
     },
     "execution_count": 2,
     "metadata": {},
     "output_type": "execute_result"
    }
   ],
   "execution_count": 2
  },
  {
   "metadata": {
    "ExecuteTime": {
     "end_time": "2025-10-17T17:20:37.975714Z",
     "start_time": "2025-10-17T17:20:37.958695Z"
    }
   },
   "cell_type": "code",
   "source": [
    "df['annual_income'] = pd.to_numeric(df['annual_income'], errors='coerce')\n",
    "df.annual_income = df.annual_income.fillna(0.0)\n",
    "numerical = ['number_of_courses_viewed', 'annual_income', 'interaction_count', 'lead_score']\n",
    "\n",
    "categorical = [\n",
    "    'lead_source',\n",
    "    'industry',\n",
    "    'employment_status',\n",
    "    'location',\n",
    "]\n",
    "for c in categorical:\n",
    "    df[c] = df[c].fillna('NA')\n",
    "\n",
    "numerical = list(df.dtypes[df.dtypes != 'object'].index)\n",
    "for n in numerical:\n",
    "    df[n] = df[n].fillna('0.0')\n",
    "\n",
    "df.isnull().sum()\n"
   ],
   "id": "59f7e300f32882d3",
   "outputs": [
    {
     "data": {
      "text/plain": [
       "lead_source                 0\n",
       "industry                    0\n",
       "number_of_courses_viewed    0\n",
       "annual_income               0\n",
       "employment_status           0\n",
       "location                    0\n",
       "interaction_count           0\n",
       "lead_score                  0\n",
       "converted                   0\n",
       "dtype: int64"
      ]
     },
     "execution_count": 3,
     "metadata": {},
     "output_type": "execute_result"
    }
   ],
   "execution_count": 3
  },
  {
   "metadata": {
    "ExecuteTime": {
     "end_time": "2025-10-17T17:20:38.337331Z",
     "start_time": "2025-10-17T17:20:38.327321Z"
    }
   },
   "cell_type": "code",
   "source": "df.dtypes",
   "id": "e6cb4ca687aee668",
   "outputs": [
    {
     "data": {
      "text/plain": [
       "lead_source                  object\n",
       "industry                     object\n",
       "number_of_courses_viewed      int64\n",
       "annual_income               float64\n",
       "employment_status            object\n",
       "location                     object\n",
       "interaction_count             int64\n",
       "lead_score                  float64\n",
       "converted                     int64\n",
       "dtype: object"
      ]
     },
     "execution_count": 4,
     "metadata": {},
     "output_type": "execute_result"
    }
   ],
   "execution_count": 4
  },
  {
   "metadata": {
    "ExecuteTime": {
     "end_time": "2025-10-17T17:20:38.919073Z",
     "start_time": "2025-10-17T17:20:38.686863Z"
    }
   },
   "cell_type": "code",
   "source": "from sklearn.model_selection import train_test_split",
   "id": "7ad0e102b9854412",
   "outputs": [],
   "execution_count": 5
  },
  {
   "metadata": {
    "ExecuteTime": {
     "end_time": "2025-10-17T17:20:39.108438Z",
     "start_time": "2025-10-17T17:20:39.092157Z"
    }
   },
   "cell_type": "code",
   "source": [
    "df_full_train, df_test = train_test_split(df, test_size=0.2, random_state=1)\n",
    "df_train, df_val = train_test_split(df_full_train, test_size=0.25, random_state=1)\n",
    "df_train = df_train.reset_index(drop=True)\n",
    "df_val = df_val.reset_index(drop=True)\n",
    "df_test = df_test.reset_index(drop=True)\n",
    "\n"
   ],
   "id": "d44c124f70b38070",
   "outputs": [],
   "execution_count": 6
  },
  {
   "metadata": {
    "ExecuteTime": {
     "end_time": "2025-10-17T17:20:39.249203Z",
     "start_time": "2025-10-17T17:20:39.241872Z"
    }
   },
   "cell_type": "code",
   "source": "len(df_train), len(df_val), len(df_test)",
   "id": "7650b98515c1aca2",
   "outputs": [
    {
     "data": {
      "text/plain": [
       "(876, 293, 293)"
      ]
     },
     "execution_count": 7,
     "metadata": {},
     "output_type": "execute_result"
    }
   ],
   "execution_count": 7
  },
  {
   "metadata": {
    "ExecuteTime": {
     "end_time": "2025-10-17T17:20:39.454529Z",
     "start_time": "2025-10-17T17:20:39.431011Z"
    }
   },
   "cell_type": "code",
   "source": [
    "numerical = ['number_of_courses_viewed', 'annual_income', 'interaction_count', 'lead_score']\n",
    "for col in numerical:\n",
    "    df_train[col] = pd.to_numeric(df_train[col], errors='coerce').fillna(0.0)\n",
    "    df_val[col]   = pd.to_numeric(df_val[col],   errors='coerce').fillna(0.0)\n",
    "    df_test[col]  = pd.to_numeric(df_test[col],  errors='coerce').fillna(0.0)\n",
    "\n",
    "y_train = df_train['converted'].astype(int).values\n",
    "y_val   = df_val['converted'].astype(int).values\n",
    "y_test  = df_test['converted'].astype(int).values\n",
    "\n",
    "del df_train['converted']\n",
    "del df_val['converted']\n",
    "del df_test['converted']\n",
    "\n",
    "from sklearn.metrics import roc_auc_score\n",
    "for col in numerical:\n",
    "    score = roc_auc_score(y_train, df_train[col].values)\n",
    "    if score < 0.5:\n",
    "        score = roc_auc_score(y_train, -df_train[col].values)\n",
    "    print(col, score)"
   ],
   "id": "f9b3b3f0a8a2c03a",
   "outputs": [
    {
     "name": "stdout",
     "output_type": "stream",
     "text": [
      "number_of_courses_viewed 0.7635680590007088\n",
      "annual_income 0.5519578313253012\n",
      "interaction_count 0.738270176293409\n",
      "lead_score 0.6144993577250176\n"
     ]
    }
   ],
   "execution_count": 8
  },
  {
   "metadata": {
    "ExecuteTime": {
     "end_time": "2025-10-17T17:20:39.732836Z",
     "start_time": "2025-10-17T17:20:39.661567Z"
    }
   },
   "cell_type": "code",
   "source": [
    "from sklearn.feature_extraction import DictVectorizer\n",
    "from sklearn.linear_model import LogisticRegression\n",
    "from sklearn.metrics import accuracy_score"
   ],
   "id": "122a61a3228b10b6",
   "outputs": [],
   "execution_count": 9
  },
  {
   "metadata": {
    "ExecuteTime": {
     "end_time": "2025-10-17T17:20:39.746447Z",
     "start_time": "2025-10-17T17:20:39.743306Z"
    }
   },
   "cell_type": "code",
   "source": "features = numerical + categorical",
   "id": "eab23ceea602b98",
   "outputs": [],
   "execution_count": 10
  },
  {
   "metadata": {
    "ExecuteTime": {
     "end_time": "2025-10-17T17:20:39.765227Z",
     "start_time": "2025-10-17T17:20:39.756882Z"
    }
   },
   "cell_type": "code",
   "source": [
    "for col in numerical:\n",
    "    df_train[col] = pd.to_numeric(df_train[col], errors='coerce').fillna(0.0)\n",
    "    df_val[col]   = pd.to_numeric(df_val[col],   errors='coerce').fillna(0.0)\n",
    "    df_test[col]  = pd.to_numeric(df_test[col],  errors='coerce').fillna(0.0)"
   ],
   "id": "b2880ad7716e913b",
   "outputs": [],
   "execution_count": 11
  },
  {
   "metadata": {
    "ExecuteTime": {
     "end_time": "2025-10-17T17:20:39.779242Z",
     "start_time": "2025-10-17T17:20:39.776063Z"
    }
   },
   "cell_type": "code",
   "source": "dv = DictVectorizer(sparse=False)\n",
   "id": "fbdcce62d54de822",
   "outputs": [],
   "execution_count": 12
  },
  {
   "metadata": {
    "ExecuteTime": {
     "end_time": "2025-10-17T17:20:39.836414Z",
     "start_time": "2025-10-17T17:20:39.789620Z"
    }
   },
   "cell_type": "code",
   "source": [
    "train_dicts = df_train[features].to_dict(orient='records')\n",
    "X_train = dv.fit_transform(train_dicts)\n",
    "\n",
    "val_dicts = df_val[features].to_dict(orient='records')\n",
    "X_val = dv.transform(val_dicts)\n",
    "\n",
    "test_dicts = df_test[features].to_dict(orient='records')\n",
    "X_test = dv.transform(test_dicts)\n"
   ],
   "id": "369efd42c6491707",
   "outputs": [],
   "execution_count": 13
  },
  {
   "metadata": {
    "ExecuteTime": {
     "end_time": "2025-10-17T17:20:39.862526Z",
     "start_time": "2025-10-17T17:20:39.853555Z"
    }
   },
   "cell_type": "code",
   "source": [
    "from sklearn.preprocessing import StandardScaler\n",
    "from sklearn.preprocessing import MinMaxScaler\n",
    "\n",
    "scaler = StandardScaler()\n",
    "X_train_scaled = scaler.fit_transform(X_train)\n",
    "X_val_scaled = scaler.fit_transform(X_val)"
   ],
   "id": "4962fdbfb11aab32",
   "outputs": [],
   "execution_count": 14
  },
  {
   "metadata": {
    "ExecuteTime": {
     "end_time": "2025-10-17T17:20:39.885040Z",
     "start_time": "2025-10-17T17:20:39.873233Z"
    }
   },
   "cell_type": "code",
   "source": [
    "model = LogisticRegression(solver='liblinear', C=1.0, max_iter=1000)\n",
    "model.fit(X_train_scaled, y_train)\n",
    "y_pred = model.predict_proba(X_val_scaled)[:, 1]"
   ],
   "id": "d35524e1d05cf40a",
   "outputs": [],
   "execution_count": 15
  },
  {
   "metadata": {
    "ExecuteTime": {
     "end_time": "2025-10-17T17:20:39.911120Z",
     "start_time": "2025-10-17T17:20:39.899179Z"
    }
   },
   "cell_type": "code",
   "source": [
    "auc_save = roc_auc_score(y_val, y_pred)\n",
    "auc_save.__round__(3)"
   ],
   "id": "d893465b4f307494",
   "outputs": [
    {
     "data": {
      "text/plain": [
       "0.92"
      ]
     },
     "execution_count": 16,
     "metadata": {},
     "output_type": "execute_result"
    }
   ],
   "execution_count": 16
  },
  {
   "metadata": {
    "ExecuteTime": {
     "end_time": "2025-10-17T17:20:41.603486Z",
     "start_time": "2025-10-17T17:20:39.948593Z"
    }
   },
   "cell_type": "code",
   "source": [
    "import numpy as np\n",
    "import matplotlib.pyplot as plt\n",
    "from sklearn.metrics import precision_score, recall_score\n",
    "\n",
    "thresholds = np.arange(0.0, 1.01, 0.01)\n",
    "precisions = []\n",
    "recalls = []\n",
    "\n",
    "for t in thresholds:\n",
    "    preds = (y_pred >= t)\n",
    "    precisions.append(precision_score(y_val, preds))\n",
    "    recalls.append(recall_score(y_val, preds))\n",
    "\n",
    "plt.plot(thresholds, precisions, label='Precision')\n",
    "plt.plot(thresholds, recalls, label='Recall')\n",
    "plt.xlabel('Threshold')\n",
    "plt.ylabel('Score')\n",
    "plt.legend()\n",
    "plt.grid(True)\n",
    "plt.show()\n",
    "\n",
    "# find threshold where precision and recall intersect (or are closest)\n",
    "diff = np.abs(np.array(precisions) - np.array(recalls))\n",
    "best_threshold = thresholds[np.argmin(diff)]\n",
    "print(\"Precision≈Recall at threshold:\", round(best_threshold, 3))"
   ],
   "id": "6d41113183316ff",
   "outputs": [
    {
     "name": "stderr",
     "output_type": "stream",
     "text": [
      "C:\\Users\\user\\PycharmProjects\\mlcamp-homework\\.venv\\Lib\\site-packages\\sklearn\\metrics\\_classification.py:1731: UndefinedMetricWarning: Precision is ill-defined and being set to 0.0 due to no predicted samples. Use `zero_division` parameter to control this behavior.\n",
      "  _warn_prf(average, modifier, f\"{metric.capitalize()} is\", result.shape[0])\n"
     ]
    },
    {
     "data": {
      "text/plain": [
       "<Figure size 640x480 with 1 Axes>"
      ],
      "image/png": "[encoded data removed]"
     },
     "metadata": {},
     "output_type": "display_data"
    },
    {
     "name": "stdout",
     "output_type": "stream",
     "text": [
      "Precision≈Recall at threshold: 0.56\n"
     ]
    }
   ],
   "execution_count": 17
  },
  {
   "metadata": {
    "ExecuteTime": {
     "end_time": "2025-10-17T17:20:41.771141Z",
     "start_time": "2025-10-17T17:20:41.764492Z"
    }
   },
   "cell_type": "code",
   "source": [
    "f1_scores = []\n",
    "\n",
    "for p, r in zip(precisions, recalls):\n",
    "    if p + r == 0:\n",
    "        f1 = 0\n",
    "    else:\n",
    "        f1 = 2 * p * r / (p + r)\n",
    "    f1_scores.append(f1)\n",
    "\n",
    "best_threshold = thresholds[np.argmax(f1_scores)]\n",
    "best_f1 = np.max(f1_scores)\n",
    "\n",
    "print(\"Best threshold:\", round(best_threshold, 3))\n",
    "print(\"Max F1:\", round(best_f1, 3))"
   ],
   "id": "343e45fe4af762d1",
   "outputs": [
    {
     "name": "stdout",
     "output_type": "stream",
     "text": [
      "Best threshold: 0.55\n",
      "Max F1: 0.884\n"
     ]
    }
   ],
   "execution_count": 18
  },
  {
   "metadata": {
    "ExecuteTime": {
     "end_time": "2025-10-17T17:20:42.263613Z",
     "start_time": "2025-10-17T17:20:42.097588Z"
    }
   },
   "cell_type": "code",
   "source": [
    "plt.plot(thresholds, f1_scores)\n",
    "plt.xlabel('Threshold')\n",
    "plt.ylabel('F1 score')\n",
    "plt.title('F1 vs Threshold')\n",
    "plt.grid(True)\n",
    "plt.show()"
   ],
   "id": "2e8d48eb226825a9",
   "outputs": [
    {
     "data": {
      "text/plain": [
       "<Figure size 640x480 with 1 Axes>"
      ],
      "image/png": "[encoded data removed]"
     },
     "metadata": {},
     "output_type": "display_data"
    }
   ],
   "execution_count": 19
  },
  {
   "metadata": {
    "ExecuteTime": {
     "end_time": "2025-10-17T17:20:43.439481Z",
     "start_time": "2025-10-17T17:20:42.331707Z"
    }
   },
   "cell_type": "code",
   "source": [
    "import pandas as pd\n",
    "import numpy as np\n",
    "from sklearn.model_selection import KFold, train_test_split\n",
    "from sklearn.feature_extraction import DictVectorizer\n",
    "from sklearn.linear_model import LogisticRegression\n",
    "from sklearn.metrics import roc_auc_score\n",
    "\n",
    "df = pd.read_csv('https://raw.githubusercontent.com/alexeygrigorev/datasets/master/course_lead_scoring.csv')\n",
    "df.columns = df.columns.str.lower().str.replace(' ', '_')\n",
    "df['annual_income'] = pd.to_numeric(df['annual_income'], errors='coerce').fillna(0.0)\n",
    "for c in list(df.dtypes[df.dtypes == 'object'].index):\n",
    "    df[c] = df[c].fillna('NA')\n",
    "for n in list(df.dtypes[df.dtypes != 'object'].index):\n",
    "    df[n] = df[n].fillna(0.0)\n",
    "\n",
    "df_full_train, df_test = train_test_split(df, test_size=0.2, random_state=1)\n",
    "\n",
    "numerical = ['number_of_courses_viewed', 'annual_income', 'interaction_count']\n",
    "categorical = ['lead_source', 'industry', 'employment_status', 'location']\n",
    "features = numerical + categorical\n",
    "\n",
    "kf = KFold(n_splits=5, shuffle=True, random_state=1)\n",
    "Cs = [0.000001, 0.001, 1.0]\n",
    "\n",
    "results = {}\n",
    "\n",
    "for C in Cs:\n",
    "    fold_aucs = []\n",
    "    for train_idx, val_idx in kf.split(df_full_train):\n",
    "        # split\n",
    "        df_train = df_full_train.iloc[train_idx].reset_index(drop=True)\n",
    "        df_val   = df_full_train.iloc[val_idx].reset_index(drop=True)\n",
    "\n",
    "        y_train = df_train['converted'].astype(int).values\n",
    "        y_val   = df_val['converted'].astype(int).values\n",
    "        del df_train['converted']\n",
    "        del df_val['converted']\n",
    "\n",
    "        for col in numerical:\n",
    "            df_train[col] = pd.to_numeric(df_train[col], errors='coerce').fillna(0.0)\n",
    "            df_val[col]   = pd.to_numeric(df_val[col], errors='coerce').fillna(0.0)\n",
    "\n",
    "\n",
    "        dv = DictVectorizer(sparse=False)\n",
    "        X_train = dv.fit_transform(df_train[features].to_dict(orient='records'))\n",
    "        X_val   = dv.transform(df_val[features].to_dict(orient='records'))\n",
    "\n",
    "        model = LogisticRegression(solver='liblinear', C=C, max_iter=1000)\n",
    "        model.fit(X_train, y_train)\n",
    "\n",
    "        y_pred = model.predict_proba(X_val)[:, 1]\n",
    "        auc = roc_auc_score(y_val, y_pred)\n",
    "        fold_aucs.append(auc)\n",
    "\n",
    "    fold_aucs = np.array(fold_aucs)\n",
    "    mean_auc = fold_aucs.mean()\n",
    "    std_auc  = fold_aucs.std()\n",
    "    results[C] = (mean_auc, std_auc)\n",
    "    print(f\"C = {C}  -> mean AUC = {mean_auc:.6f}, std = {std_auc:.6f}\")\n",
    "\n",
    "print(\"\\nRounded (mean, std) to 3 decimals:\")\n",
    "for C, (m, s) in results.items():\n",
    "    print(f\"C = {C} -> mean = {round(m,3)}, std = {round(s,3)}\")\n",
    "\n",
    "\n",
    "best = None\n",
    "for C, (m, s) in results.items():\n",
    "    if best is None:\n",
    "        best = (C, m, s)\n",
    "    else:\n",
    "        if m > best[1] + 1e-12:\n",
    "            best = (C, m, s)\n",
    "        elif abs(m - best[1]) < 1e-12:\n",
    "            if s < best[2] - 1e-12:\n",
    "                best = (C, m, s)\n",
    "            elif abs(s - best[2]) < 1e-12:\n",
    "                if C < best[0]:\n",
    "                    best = (C, m, s)\n",
    "\n",
    "print(\"\\nBest C according to rules:\", best[0], \"mean =\", round(best[1],3), \"std =\", round(best[2],3))"
   ],
   "id": "881273d2d395823f",
   "outputs": [
    {
     "name": "stdout",
     "output_type": "stream",
     "text": [
      "C = 1e-06  -> mean AUC = 0.560301, std = 0.023765\n",
      "C = 0.001  -> mean AUC = 0.865458, std = 0.029348\n",
      "C = 1.0  -> mean AUC = 0.821413, std = 0.035842\n",
      "\n",
      "Rounded (mean, std) to 3 decimals:\n",
      "C = 1e-06 -> mean = 0.56, std = 0.024\n",
      "C = 0.001 -> mean = 0.865, std = 0.029\n",
      "C = 1.0 -> mean = 0.821, std = 0.036\n",
      "\n",
      "Best C according to rules: 0.001 mean = 0.865 std = 0.029\n"
     ]
    }
   ],
   "execution_count": 20
  }
 ],
 "metadata": {
  "kernelspec": {
   "display_name": "Python 3",
   "language": "python",
   "name": "python3"
  },
  "language_info": {
   "codemirror_mode": {
    "name": "ipython",
    "version": 2
   },
   "file_extension": ".py",
   "mimetype": "text/x-python",
   "name": "python",
   "nbconvert_exporter": "python",
   "pygments_lexer": "ipython2",
   "version": "2.7.6"
  }
 },
 "nbformat": 4,
 "nbformat_minor": 5
}
